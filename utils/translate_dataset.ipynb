{
 "cells": [
  {
   "cell_type": "code",
   "execution_count": 1,
   "metadata": {},
   "outputs": [
    {
     "name": "stderr",
     "output_type": "stream",
     "text": [
      "Using region  server backend.\n",
      "\n"
     ]
    }
   ],
   "source": [
    "import pandas as pd\n",
    "import translators as ts\n",
    "import logging\n",
    "import time\n",
    "from requests.exceptions import HTTPError\n",
    "import random\n"
   ]
  },
  {
   "cell_type": "code",
   "execution_count": 2,
   "metadata": {},
   "outputs": [],
   "source": [
    "# Define the input CSV, output CSV, and languages\n",
    "input_csv = '/gns_code/data/bert/WELFake_Dataset.csv'\n",
    "output_csv = '/gns_code/data/bert/translated_titles.csv'\n",
    "sample_output_csv = '/gns_code/data/bert/translated_sample.csv'\n",
    "languages = ['fr', 'es', 'ru', 'pt', 'ar']"
   ]
  },
  {
   "cell_type": "code",
   "execution_count": 3,
   "metadata": {},
   "outputs": [],
   "source": [
    "# Load your DataFrame\n",
    "df = pd.read_csv(input_csv, header=0)"
   ]
  },
  {
   "cell_type": "code",
   "execution_count": 4,
   "metadata": {},
   "outputs": [],
   "source": [
    "# Configure logging to save messages to a log file\n",
    "logging.basicConfig(filename='/gns_code/logs/trans logs/translation_log.txt', level=logging.INFO, format='%(levelname)s: %(message)s')\n",
    "\n",
    "def clean_dataframe(df):\n",
    "    # Remove rows with empty titles\n",
    "    df = df.dropna(subset=['title'])\n",
    "    \n",
    "    # Remove duplicate titles\n",
    "    df = df.drop_duplicates(subset=['title'])\n",
    "    \n",
    "    return df\n",
    "\n",
    "def translate_and_log(df, languages, output_csv):\n",
    "    # Clean the DataFrame\n",
    "    df = clean_dataframe(df)\n",
    "    df = df.reset_index()\n",
    "\n",
    "    # Create a new DataFrame to store the translated titles, their labels, and the original titles\n",
    "    translated_df = pd.DataFrame(columns=['index', 'label', 'translated_title', 'original_title'])\n",
    "\n",
    "    for i, (index, row) in enumerate(df.iterrows()):\n",
    "        label = row['label']\n",
    "        original_title = row['title']\n",
    "        text_to_translate = original_title\n",
    "\n",
    "        if text_to_translate is None:\n",
    "            continue\n",
    "\n",
    "        # Select the language based on the current index modulo the number of languages\n",
    "        lang = languages[i % len(languages)]\n",
    "        logging.info(f\"Translating to {lang}:\")\n",
    "\n",
    "        while True:\n",
    "            try:\n",
    "                translated_text = ts.translate_text(text_to_translate, translator='google', from_language='auto', to_language=lang)\n",
    "                logging.info(f\"Translation to {lang}: {translated_text}\")\n",
    "                translated_df = pd.concat([translated_df, pd.DataFrame({'index': [index], 'label': [label], 'translated_title': [translated_text], 'original_title': [original_title]})], ignore_index=True)\n",
    "                \n",
    "                # Write the translated DataFrame to the output CSV file\n",
    "                with open(output_csv, 'a') as f:\n",
    "                    translated_df.to_csv(f, header=f.tell()==0, index=False)\n",
    "                translated_df = pd.DataFrame(columns=['index', 'label', 'translated_title', 'original_title'])  # Reset the DataFrame\n",
    "                \n",
    "                break  # Translation successful, break out of the retry loop\n",
    "            except HTTPError as e:\n",
    "                if e.response.status_code == 429:\n",
    "                    retry_time = random.randint(30, 90)  # Random retry time between 30 to 90 seconds\n",
    "                    logging.warning(f\"Rate limit exceeded. Waiting for {retry_time} seconds...\")\n",
    "                    time.sleep(retry_time)\n",
    "                    continue  # Retry the translation\n",
    "                else:\n",
    "                    logging.error(f\"Translation failed: {e}\")\n",
    "                    break  # Break the retry loop for other errors\n",
    "            except IndexError as e:\n",
    "                logging.error(f\"IndexError occurred: {e}\")\n",
    "                break  # Skip this iteration and continue with the next one\n",
    "        \n",
    "        logging.info(f\"Original Text: {text_to_translate}\\n\")\n",
    "\n",
    "        \n",
    "def test_translation_and_export_to_csv(input_csv, sample_output_csv, languages, sample_size=10):\n",
    "    # Load your DataFrame\n",
    "    df = pd.read_csv(input_csv, header=0)\n",
    "\n",
    "    # Get a sample of data for testing (10 titles)\n",
    "    sample_df = df.sample(n=sample_size)\n",
    "\n",
    "    # Call the function to translate, log, and store the translated titles with their labels and original titles\n",
    "    translate_and_log(sample_df, languages, sample_output_csv)\n"
   ]
  },
  {
   "cell_type": "code",
   "execution_count": 5,
   "metadata": {},
   "outputs": [],
   "source": [
    "translate_and_log(df, languages, output_csv)\n"
   ]
  }
 ],
 "metadata": {
  "kernelspec": {
   "display_name": "Python 3",
   "language": "python",
   "name": "python3"
  },
  "language_info": {
   "codemirror_mode": {
    "name": "ipython",
    "version": 3
   },
   "file_extension": ".py",
   "mimetype": "text/x-python",
   "name": "python",
   "nbconvert_exporter": "python",
   "pygments_lexer": "ipython3",
   "version": "3.10.13"
  }
 },
 "nbformat": 4,
 "nbformat_minor": 2
}
